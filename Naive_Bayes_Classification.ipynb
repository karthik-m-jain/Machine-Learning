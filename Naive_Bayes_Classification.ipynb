{
 "cells": [
  {
   "cell_type": "code",
   "execution_count": 1,
   "metadata": {},
   "outputs": [],
   "source": [
    "#Iris dataset\n",
    "from sklearn.datasets import load_iris\n",
    "from sklearn.model_selection import train_test_split\n",
    "from sklearn.naive_bayes import  GaussianNB\n",
    "\n",
    "X,y=load_iris(return_X_y=True)"
   ]
  },
  {
   "cell_type": "code",
   "execution_count": 2,
   "metadata": {},
   "outputs": [],
   "source": [
    "#Split the data into train and test\n",
    "\n",
    "X_train, X_test, y_train, y_test=train_test_split(X,y,test_size=0.35,random_state=0)"
   ]
  },
  {
   "cell_type": "code",
   "execution_count": 3,
   "metadata": {},
   "outputs": [
    {
     "name": "stdout",
     "output_type": "stream",
     "text": [
      "No. of mislabeled points out of total 53 points : 2\n"
     ]
    }
   ],
   "source": [
    "#Gaussian Naive Bayes Classification\n",
    "gnd= GaussianNB()\n",
    "\n",
    "#Fit the data\n",
    "y_pred=gnd.fit(X_train,y_train).predict(X_test)\n",
    "\n",
    "print(\"No. of mislabeled points out of total %d points : %d\" %(X_test.shape[0], (y_test != y_pred).sum()))"
   ]
  },
  {
   "cell_type": "code",
   "execution_count": 4,
   "metadata": {},
   "outputs": [],
   "source": [
    "#Fetch_20newsgroups dataset\n",
    "from sklearn.datasets import fetch_20newsgroups\n"
   ]
  },
  {
   "cell_type": "code",
   "execution_count": 5,
   "metadata": {},
   "outputs": [
    {
     "data": {
      "text/plain": [
       "['alt.atheism',\n",
       " 'comp.graphics',\n",
       " 'comp.os.ms-windows.misc',\n",
       " 'comp.sys.ibm.pc.hardware',\n",
       " 'comp.sys.mac.hardware',\n",
       " 'comp.windows.x',\n",
       " 'misc.forsale',\n",
       " 'rec.autos',\n",
       " 'rec.motorcycles',\n",
       " 'rec.sport.baseball',\n",
       " 'rec.sport.hockey',\n",
       " 'sci.crypt',\n",
       " 'sci.electronics',\n",
       " 'sci.med',\n",
       " 'sci.space',\n",
       " 'soc.religion.christian',\n",
       " 'talk.politics.guns',\n",
       " 'talk.politics.mideast',\n",
       " 'talk.politics.misc',\n",
       " 'talk.religion.misc']"
      ]
     },
     "execution_count": 5,
     "metadata": {},
     "output_type": "execute_result"
    }
   ],
   "source": [
    "data=fetch_20newsgroups()\n",
    "data.target_names          #target values\n",
    "#data.data"
   ]
  },
  {
   "cell_type": "code",
   "execution_count": 6,
   "metadata": {},
   "outputs": [],
   "source": [
    "#Classify data into train and test \n",
    "train=fetch_20newsgroups(subset=\"train\")\n",
    "test=fetch_20newsgroups(subset=\"test\")"
   ]
  },
  {
   "cell_type": "code",
   "execution_count": 7,
   "metadata": {},
   "outputs": [
    {
     "name": "stdout",
     "output_type": "stream",
     "text": [
      "From: keith@cco.caltech.edu (Keith Allan Schneider)\n",
      "Subject: Re: <<Pompous ass\n",
      "Organization: California Institute of Technology, Pasadena\n",
      "Lines: 16\n",
      "NNTP-Posting-Host: punisher.caltech.edu\n",
      "\n",
      "livesey@solntze.wpd.sgi.com (Jon Livesey) writes:\n",
      "\n",
      "[...]\n",
      ">>The \"`little' things\" above were in reference to Germany, clearly.  People\n",
      ">>said that there were similar things in Germany, but no one could name any.\n",
      ">That's not true.  I gave you two examples.  One was the rather\n",
      ">pevasive anti-semitism in German Christianity well before Hitler\n",
      ">arrived.  The other was the system of social ranks that were used\n",
      ">in Imperail Germany and Austria to distinguish Jews from the rest \n",
      ">of the population.\n",
      "\n",
      "These don't seem like \"little things\" to me.  At least, they are orders\n",
      "worse than the motto.  Do you think that the motto is a \"little thing\"\n",
      "that will lead to worse things?\n",
      "\n",
      "keith\n",
      "\n"
     ]
    }
   ],
   "source": [
    "print(train.data[20])"
   ]
  },
  {
   "cell_type": "code",
   "execution_count": 8,
   "metadata": {},
   "outputs": [],
   "source": [
    "#Import TfidfVectorizer\n",
    "from sklearn.feature_extraction.text import TfidfVectorizer\n",
    "\n",
    "#Import Multinomial Naive Bayes Classification\n",
    "from sklearn.naive_bayes import MultinomialNB\n",
    "\n",
    "#Import Pipeline\n",
    "from sklearn.pipeline import make_pipeline\n",
    "\n",
    "#Create Pipeline\n",
    "model=make_pipeline(TfidfVectorizer(),MultinomialNB())"
   ]
  },
  {
   "cell_type": "code",
   "execution_count": 9,
   "metadata": {},
   "outputs": [],
   "source": [
    "#Fit the data\n",
    "model.fit(train.data,train.target)\n",
    "\n",
    "label=model.predict(test.data)"
   ]
  },
  {
   "cell_type": "code",
   "execution_count": 10,
   "metadata": {},
   "outputs": [
    {
     "data": {
      "text/plain": [
       "array([ 7, 11,  0, ...,  9,  3, 15])"
      ]
     },
     "execution_count": 10,
     "metadata": {},
     "output_type": "execute_result"
    }
   ],
   "source": [
    "label"
   ]
  },
  {
   "cell_type": "code",
   "execution_count": 11,
   "metadata": {},
   "outputs": [
    {
     "data": {
      "text/plain": [
       "array([6])"
      ]
     },
     "execution_count": 11,
     "metadata": {},
     "output_type": "execute_result"
    }
   ],
   "source": [
    "#Predict in which category this sentence belongs to\n",
    "pred=model.predict([\"Electronics Sale\"])\n",
    "pred"
   ]
  },
  {
   "cell_type": "code",
   "execution_count": 12,
   "metadata": {},
   "outputs": [
    {
     "data": {
      "text/plain": [
       "'misc.forsale'"
      ]
     },
     "execution_count": 12,
     "metadata": {},
     "output_type": "execute_result"
    }
   ],
   "source": [
    "#To get the category name\n",
    "train.target_names[pred[0]]"
   ]
  },
  {
   "cell_type": "code",
   "execution_count": null,
   "metadata": {},
   "outputs": [],
   "source": []
  }
 ],
 "metadata": {
  "kernelspec": {
   "display_name": "Python 3",
   "language": "python",
   "name": "python3"
  },
  "language_info": {
   "codemirror_mode": {
    "name": "ipython",
    "version": 3
   },
   "file_extension": ".py",
   "mimetype": "text/x-python",
   "name": "python",
   "nbconvert_exporter": "python",
   "pygments_lexer": "ipython3",
   "version": "3.7.3"
  }
 },
 "nbformat": 4,
 "nbformat_minor": 2
}
